{
 "cells": [
  {
   "cell_type": "code",
   "execution_count": null,
   "metadata": {},
   "outputs": [],
   "source": [
    "import numpy as np\n",
    "import pandas as pd\n",
    "import matplotlib.pyplot as plt\n",
    "import matplotlib.dates as md\n",
    "import pymongo\n",
    "import bson\n",
    "import json\n",
    "from datetime import datetime\n",
    "from collections import Counter,defaultdict"
   ]
  },
  {
   "cell_type": "code",
   "execution_count": null,
   "metadata": {},
   "outputs": [],
   "source": [
    "with open('users.bson', 'rb') as user_file:\n",
    "    users = bson.decode_all(user_file.read())\n",
    "with open('events.bson', 'rb') as events_file:\n",
    "    events = bson.decode_all(events_file.read())\n",
    "with open('eclipse-messages.json', 'r') as messages_file:\n",
    "    eclipse_messages = json.load(messages_file)"
   ]
  },
  {
   "cell_type": "code",
   "execution_count": null,
   "metadata": {},
   "outputs": [],
   "source": [
    "sa_events = list(filter(lambda event: (event['et'] == 'sa-wc' or event['et'] == 'sa-wr') and ('warning' in event), events))\n",
    "print('Number of static analysis events: ' + str(len(sa_events)))\n",
    "\n",
    "def plot_counts(ylabel, xlabel, count_list, top_n_items = 0):\n",
    "    labels, values = zip(*sorted(Counter(count_list).items(), key=lambda tup: tup[1], reverse = True))\n",
    "\n",
    "    indexes = np.arange(len(labels))\n",
    "    \n",
    "    if (top_n_items != 0):\n",
    "        first_n_indexes = indexes[:top_n_items]\n",
    "        first_n_values = values[:top_n_items]\n",
    "        first_n_labels = labels[:top_n_items]\n",
    "\n",
    "        plt.figure(figsize=(20,10))\n",
    "        plt.bar(first_n_indexes, first_n_values)\n",
    "        plt.xticks(first_n_indexes, first_n_labels,rotation=90)\n",
    "        plt.ylabel(ylabel)\n",
    "        plt.xlabel(xlabel)\n",
    "        plt.show()\n",
    "\n",
    "    plt.figure(figsize=(20,10))\n",
    "    plt.bar(indexes, values)\n",
    "    plt.xticks(indexes, labels,rotation=90)\n",
    "    plt.ylabel(ylabel)\n",
    "    plt.xlabel(xlabel)\n",
    "    plt.show()\n",
    "\n",
    "def print_dictionary_as_table(header1, header2, dictionary):\n",
    "    print(header1 + ' | ' + header2)\n",
    "    for row in [('{:<' + str(len(header1)) + '}').format(key) + ' | ' + str(value if type(value) == int else len(value)) for key,value in dictionary.items()]:\n",
    "        print(row)"
   ]
  },
  {
   "cell_type": "code",
   "execution_count": null,
   "metadata": {},
   "outputs": [],
   "source": [
    "sa_events_with_classifications = list(filter(lambda event: event['warning']['type'] != 'unknown', sa_events))\n",
    "plot_counts('Number of events in category', 'Warning category', list(map(lambda warning: eclipse_messages[str(int(warning) - 1)] if warning.isdigit() else warning , map(lambda event: event['warning']['type'], sa_events_with_classifications))), 25)"
   ]
  },
  {
   "cell_type": "code",
   "execution_count": null,
   "metadata": {},
   "outputs": [],
   "source": [
    "def showHeatMap(warnings):\n",
    "    hist, edges = np.histogram(warnings, np.arange(0, 1.01, 0.01))\n",
    "    hist=hist[np.newaxis,:]\n",
    "    plt.imshow(hist, aspect = \"auto\", cmap=\"inferno\", extent=[0,1,0,100])\n",
    "    plt.gca().set_yticks([])\n",
    "    plt.xlabel('Location of warning relative to total file length')\n",
    "    plt.ylabel('Frequency of occurrence')\n",
    "    plt.show()\n",
    "\n",
    "def get_relative_line(event):\n",
    "    if (event['warning']['doctotal'] == -1):\n",
    "        return round(event['warning']['line'] / event['doc']['sloc'], 2)\n",
    "    return round(event['warning']['line'] / event['warning']['doctotal'], 2)\n",
    "\n",
    "print('Warnings added/removed relative to file')\n",
    "sa_events_doctotal = filter(lambda event: 'doctotal' in event['warning'] and abs(event['doc']['sloc']) != 1 and event['doc']['sloc'] != 0 and event['warning']['line'] != -1, sa_events)\n",
    "showHeatMap(list(filter(lambda count: count != 0.5, map(get_relative_line, sa_events_doctotal))))\n",
    "\n",
    "print('Warning snapshots of all warnings')\n",
    "sa_snapshots = list(filter(lambda event: event['et'] == 'sa-snap', events))\n",
    "snapshots_relative_loc = []\n",
    "for event in sa_snapshots:\n",
    "    for warning in event['warnings']:\n",
    "        if abs(event['doc']['sloc'] != -1):\n",
    "            snapshots_relative_loc.append(round(warning['line'] / event['doc']['sloc'], 2))\n",
    "showHeatMap(snapshots_relative_loc)"
   ]
  },
  {
   "cell_type": "code",
   "execution_count": null,
   "metadata": {},
   "outputs": [],
   "source": [
    "plot_counts('Number of events per user', 'User ID', list(map(lambda event: event['userId'] , sa_events)))"
   ]
  },
  {
   "cell_type": "code",
   "execution_count": null,
   "metadata": {},
   "outputs": [],
   "source": [
    "created_warning_events = list(filter(lambda event: event['et'] == 'sa-wr', sa_events))\n",
    "life_time_events = list(map(lambda event: event['warning']['diff'], created_warning_events))\n",
    "has_time_diff = list(filter(lambda time: time != -1, life_time_events))\n",
    "has_no_time_diff = list(filter(lambda time: time == -1, life_time_events))\n",
    "\n",
    "print('Number of warnings which have a time diff: ' + str(len(has_time_diff)))\n",
    "print('Number of warnings which do not have a time diff: ' + str(len(has_no_time_diff)))"
   ]
  },
  {
   "cell_type": "code",
   "execution_count": null,
   "metadata": {},
   "outputs": [],
   "source": [
    "life_time_per_user = defaultdict(list)\n",
    "for event in created_warning_events:\n",
    "    if event['warning']['diff'] != -1:\n",
    "        life_time_per_user[event['userId']].append(event['warning']['diff'])\n",
    "\n",
    "values = list(filter(lambda values: len(values) > 25, [life_time_per_user[user] for user in life_time_per_user.keys()]))\n",
    "\n",
    "print_dictionary_as_table('{:<40}'.format('User ID'), 'Number of events', life_time_per_user)\n",
    "\n",
    "plt.figure(figsize=(10,10))\n",
    "ax = plt.axes()\n",
    "bp = plt.boxplot(values, sym='+', vert=False, showfliers=False,notch=False)\n",
    "plt.ylabel('Distribution of resolution time per user')\n",
    "plt.xlabel('Time in seconds to resolve a warning')\n",
    "ax.set_yticklabels(list(filter(lambda user: len(life_time_per_user[user]) > 25, life_time_per_user.keys())))\n",
    "plt.show()"
   ]
  },
  {
   "cell_type": "code",
   "execution_count": null,
   "metadata": {},
   "outputs": [],
   "source": [
    "unique_users = defaultdict(str)\n",
    "life_time_per_programming_experience = defaultdict(list)\n",
    "for event in created_warning_events:\n",
    "    if event['warning']['diff'] != -1:\n",
    "        user = list(filter(lambda user: user['id'] == event['userId'], users))\n",
    "        if (len(user) > 0):\n",
    "            unique_users[event['userId']] = user[0]['programmingExperience']\n",
    "            life_time_per_programming_experience[user[0]['programmingExperience']].append(event['warning']['diff'])\n",
    "        else:\n",
    "            print('Could not find user with id: ' + str(event['userId']))\n",
    "\n",
    "counts_per_exp = [life_time_per_programming_experience[exp] for exp in life_time_per_programming_experience.keys()]\n",
    "values = list(filter(lambda values: len(values) > 25, counts_per_exp))\n",
    "\n",
    "print_dictionary_as_table('Programming experience', 'Number of events', life_time_per_programming_experience)\n",
    "\n",
    "print()\n",
    "\n",
    "programming_exp_user_count = defaultdict(int)\n",
    "for user, exp in unique_users.items():\n",
    "    programming_exp_user_count[exp] = programming_exp_user_count[exp] + 1\n",
    "\n",
    "print_dictionary_as_table('Programming experience', 'Number of users', programming_exp_user_count)\n",
    "\n",
    "plt.figure(figsize=(10,10))\n",
    "ax = plt.axes()\n",
    "bp = plt.boxplot(values, sym='+', vert=False, showfliers=False,notch=False)\n",
    "plt.ylabel('Distribution of resolution time per user')\n",
    "plt.xlabel('Time in seconds to resolve a warning')\n",
    "ax.set_yticklabels(list(filter(lambda exp: len(life_time_per_programming_experience[exp]) > 25, life_time_per_programming_experience.keys())))\n",
    "plt.show()"
   ]
  }
 ],
 "metadata": {
  "kernelspec": {
   "display_name": "Python 3",
   "language": "python",
   "name": "python3"
  },
  "language_info": {
   "codemirror_mode": {
    "name": "ipython",
    "version": 3
   },
   "file_extension": ".py",
   "mimetype": "text/x-python",
   "name": "python",
   "nbconvert_exporter": "python",
   "pygments_lexer": "ipython3",
   "version": "3.5.2"
  }
 },
 "nbformat": 4,
 "nbformat_minor": 2
}
